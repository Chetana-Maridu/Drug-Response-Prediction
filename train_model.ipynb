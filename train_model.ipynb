{
 "cells": [
  {
   "cell_type": "code",
   "execution_count": 1,
   "metadata": {},
   "outputs": [
    {
     "name": "stdout",
     "output_type": "stream",
     "text": [
      "Model trained with Mean Squared Error: 118.87467728347329\n",
      "Model saved as 'drug_response_model.pkl'\n"
     ]
    }
   ],
   "source": [
    "# train_model.py\n",
    "\n",
    "import pandas as pd\n",
    "import numpy as np\n",
    "from sklearn.model_selection import train_test_split\n",
    "from sklearn.ensemble import RandomForestRegressor\n",
    "from sklearn.metrics import mean_squared_error\n",
    "import joblib\n",
    "\n",
    "# Generate synthetic data\n",
    "n = 1000\n",
    "np.random.seed(0)\n",
    "\n",
    "# Features\n",
    "drug_id = np.random.choice([0, 1, 2, 3, 4], size=n)\n",
    "dosage = np.random.randint(1, 101, size=n)\n",
    "age = np.random.randint(18, 80, size=n)\n",
    "bmi = np.round(np.random.normal(25, 5, size=n), 2)\n",
    "condition_indicator = np.random.choice([0, 1], size=n)\n",
    "\n",
    "# Target\n",
    "response_efficiency = (\n",
    "    20 * drug_id +\n",
    "    0.3 * dosage +\n",
    "    0.1 * age -\n",
    "    0.5 * bmi +\n",
    "    5 * condition_indicator +\n",
    "    np.random.normal(0, 10, size=n)\n",
    ")\n",
    "response_efficiency = np.clip(response_efficiency, 0, 100)\n",
    "\n",
    "# DataFrame\n",
    "data = pd.DataFrame({\n",
    "    'drug_id': drug_id,\n",
    "    'dosage': dosage,\n",
    "    'age': age,\n",
    "    'bmi': bmi,\n",
    "    'condition_indicator': condition_indicator,\n",
    "    'response_efficiency': response_efficiency\n",
    "})\n",
    "\n",
    "# Save dataset\n",
    "data.to_csv('synthetic_drug_response_data.csv', index=False)\n",
    "\n",
    "# Split data\n",
    "X = data[['drug_id', 'dosage', 'age', 'bmi', 'condition_indicator']]\n",
    "y = data['response_efficiency']\n",
    "X_train, X_test, y_train, y_test = train_test_split(X, y, test_size=0.2, random_state=42)\n",
    "\n",
    "# Train model\n",
    "model = RandomForestRegressor()\n",
    "model.fit(X_train, y_train)\n",
    "\n",
    "# Evaluate and save model\n",
    "y_pred = model.predict(X_test)\n",
    "mse = mean_squared_error(y_test, y_pred)\n",
    "print(f\"Model trained with Mean Squared Error: {mse}\")\n",
    "joblib.dump(model, 'drug_response_model.pkl')\n",
    "print(\"Model saved as 'drug_response_model.pkl'\")\n"
   ]
  },
  {
   "cell_type": "code",
   "execution_count": null,
   "metadata": {},
   "outputs": [],
   "source": []
  }
 ],
 "metadata": {
  "kernelspec": {
   "display_name": "base",
   "language": "python",
   "name": "python3"
  },
  "language_info": {
   "codemirror_mode": {
    "name": "ipython",
    "version": 3
   },
   "file_extension": ".py",
   "mimetype": "text/x-python",
   "name": "python",
   "nbconvert_exporter": "python",
   "pygments_lexer": "ipython3",
   "version": "3.11.7"
  }
 },
 "nbformat": 4,
 "nbformat_minor": 2
}
